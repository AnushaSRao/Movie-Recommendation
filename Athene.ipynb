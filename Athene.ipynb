{
 "cells": [
  {
   "cell_type": "code",
   "execution_count": 1,
   "metadata": {},
   "outputs": [],
   "source": [
    "# import the required libraries.\n",
    "from sklearn.decomposition import PCA\n",
    "from sklearn.preprocessing import StandardScaler\n",
    "from kmodes.kmodes import KModes\n",
    "from sklearn.linear_model import LinearRegression\n",
    "from sklearn.metrics import mean_squared_error, r2_score\n",
    "from sklearn.model_selection import train_test_split\n",
    "from sklearn.cluster import KMeans\n",
    "import seaborn as sns\n",
    "import pandas as pd\n",
    "import numpy as np\n",
    "import matplotlib.pyplot as plt\n",
    "from numpy import nanmedian\n",
    "import random\n",
    "from numpy import dot\n",
    "from numpy.linalg import norm\n",
    "from sklearn.model_selection import KFold\n",
    "import math"
   ]
  },
  {
   "cell_type": "code",
   "execution_count": 2,
   "metadata": {},
   "outputs": [],
   "source": [
    " # reading the data\n",
    "df = pd.read_csv(\"responses.csv\") "
   ]
  },
  {
   "cell_type": "code",
   "execution_count": 3,
   "metadata": {},
   "outputs": [],
   "source": [
    "# fill the nan values using the medians\n",
    "df = df.groupby(df.columns, axis=1).transform(lambda x: x.fillna(x.median()))"
   ]
  },
  {
   "cell_type": "code",
   "execution_count": 4,
   "metadata": {},
   "outputs": [
    {
     "name": "stdout",
     "output_type": "stream",
     "text": [
      "{'Smoking': 8, 'Alcohol': 5, 'Punctuality': 2, 'Lying': 2, 'Achievements': 2, 'Gender': 6, 'Left - right handed': 3, 'Education': 1, 'Only child': 2, 'Village - town': 4, 'House - block of flats': 4}\n"
     ]
    }
   ],
   "source": [
    "# used to find the nan count of attributes\n",
    "def nancount(x):\n",
    "    count = 0\n",
    "    a = df[x].isnull()  # returns true for null values\n",
    "    for val in a:\n",
    "        if(val):\n",
    "            count += 1\n",
    "    return count\n",
    "\n",
    "# dictinary to store the nan counts with keys as attribute names\n",
    "counts = {}\n",
    "for i in df.columns:\n",
    "    returnval = nancount(i)\n",
    "    if(returnval != 0):\n",
    "        counts[i] = nancount(i)\n",
    "print(counts)"
   ]
  },
  {
   "cell_type": "code",
   "execution_count": 5,
   "metadata": {},
   "outputs": [],
   "source": [
    "def replace(col):\n",
    "    # find the unique values\n",
    "    un = pd.unique(df[col])\n",
    "    j = 1\n",
    "    # dictionary used to map the categorical variables\n",
    "    dict_1 = {}\n",
    "    for i in un[:-1]:\n",
    "        dict_1[i] = j\n",
    "        j += 1\n",
    "    # un[-1] has nan in it. Hence that must have a value of zero initially\n",
    "    dict_1[un[-1]] = 0\n",
    "    # print(dict_1)\n",
    "    x = []\n",
    "    # list containing the integer values of the categorical variales\n",
    "    for index, row in df[col].iteritems():\n",
    "        x.append((dict_1[row]))\n",
    "    med = np.median(x)\n",
    "    # the zero valued rows are replaced with the median\n",
    "    for i in range(0, len(x)):\n",
    "        if(x[i] == 0):\n",
    "            x[i] = int(med)\n",
    "    # assign it to the dataframe\n",
    "    df[col] = x\n",
    "    \n",
    "NaN_Col = ['Smoking', 'Alcohol', 'Punctuality', 'Lying', 'Education']\n",
    "for i in NaN_Col:\n",
    "    replace(i)"
   ]
  },
  {
   "cell_type": "code",
   "execution_count": 6,
   "metadata": {},
   "outputs": [
    {
     "name": "stdout",
     "output_type": "stream",
     "text": [
      "{'Achievements': 2, 'Gender': 6, 'Left - right handed': 3, 'Only child': 2, 'Village - town': 4, 'House - block of flats': 4}\n"
     ]
    }
   ],
   "source": [
    "def nancount(x):\n",
    "    count = 0\n",
    "    a = df[x].isnull()\n",
    "    for val in a:\n",
    "        if(val):\n",
    "            count += 1\n",
    "    return count\n",
    "\n",
    "\n",
    "counts = {}\n",
    "for i in df.columns:\n",
    "    returnval = nancount(i)\n",
    "    if(returnval != 0):\n",
    "        counts[i] = nancount(i)\n",
    "print(counts)\n"
   ]
  },
  {
   "cell_type": "code",
   "execution_count": 7,
   "metadata": {},
   "outputs": [
    {
     "name": "stdout",
     "output_type": "stream",
     "text": [
      "female    593\n",
      "male      411\n",
      "Name: Gender, dtype: int64\n",
      "59.06374501992032 40.93625498007968\n"
     ]
    },
    {
     "data": {
      "image/png": "[encoded data removed]",
      "text/plain": [
       "<Figure size 432x288 with 1 Axes>"
      ]
     },
     "metadata": {},
     "output_type": "display_data"
    }
   ],
   "source": [
    "# total no.of attributes\n",
    "valcount = df.Gender.value_counts()\n",
    "print(valcount)\n",
    "# find the percentage of the population who are male\n",
    "noperc = (valcount['female'] / (valcount['male'] + valcount['female'])) * 100\n",
    "# find the percentage of the population who are female\n",
    "yesperc = (valcount['male'] / (valcount['male'] + valcount['female'])) * 100\n",
    "print(noperc, yesperc)\n",
    "# pie chart to represent the ratio\n",
    "plt.pie(valcount, labels=['female', 'male'], autopct='%1.0f%%')\n",
    "plt.show()\n"
   ]
  },
  {
   "cell_type": "code",
   "execution_count": 8,
   "metadata": {},
   "outputs": [
    {
     "name": "stderr",
     "output_type": "stream",
     "text": [
      "C:\\Users\\5570\\Anaconda3\\lib\\site-packages\\pandas\\core\\indexing.py:189: SettingWithCopyWarning: \n",
      "A value is trying to be set on a copy of a slice from a DataFrame\n",
      "\n",
      "See the caveats in the documentation: http://pandas.pydata.org/pandas-docs/stable/indexing.html#indexing-view-versus-copy\n",
      "  self._setitem_with_indexer(indexer, value)\n"
     ]
    }
   ],
   "source": [
    "# dealing with missing values present in the Gender column\n",
    "for index, row in df.Gender.iteritems():\n",
    "    if(isinstance(row, float)):\n",
    "        # generate a random number\n",
    "        x = random.randint(1, 100)\n",
    "        # based on the ratio classify the missing values\n",
    "        if (x >= 1 and x <= 60):\n",
    "            df.Gender.loc[index] = 'female'\n",
    "        else:\n",
    "            df.Gender.loc[index] = 'male'\n"
   ]
  },
  {
   "cell_type": "code",
   "execution_count": 9,
   "metadata": {},
   "outputs": [
    {
     "name": "stdout",
     "output_type": "stream",
     "text": [
      "89.97020854021847 10.02979145978153\n"
     ]
    },
    {
     "data": {
      "image/png": "[encoded data removed]",
      "text/plain": [
       "<Figure size 432x288 with 1 Axes>"
      ]
     },
     "metadata": {},
     "output_type": "display_data"
    }
   ],
   "source": [
    "# similar way to handle the missing value for the column 'Left-right handed'\n",
    "valcount = df['Left - right handed'].value_counts()\n",
    "noperc = (valcount['right handed'] /\n",
    "          (valcount['right handed'] + valcount['left handed'])) * 100\n",
    "yesperc = (valcount['left handed'] /\n",
    "           (valcount['right handed'] + valcount['left handed'])) * 100\n",
    "print(noperc, yesperc)\n",
    "\n",
    "plt.pie(valcount, labels=['right handed', 'left handed'], autopct='%1.0f%%')\n",
    "plt.show()\n"
   ]
  },
  {
   "cell_type": "code",
   "execution_count": 10,
   "metadata": {},
   "outputs": [
    {
     "name": "stderr",
     "output_type": "stream",
     "text": [
      "C:\\Users\\5570\\Anaconda3\\lib\\site-packages\\pandas\\core\\indexing.py:189: SettingWithCopyWarning: \n",
      "A value is trying to be set on a copy of a slice from a DataFrame\n",
      "\n",
      "See the caveats in the documentation: http://pandas.pydata.org/pandas-docs/stable/indexing.html#indexing-view-versus-copy\n",
      "  self._setitem_with_indexer(indexer, value)\n"
     ]
    }
   ],
   "source": [
    "for index, row in df['Left - right handed'].iteritems():\n",
    "    if(isinstance(row, float)):\n",
    "        x = random.randint(1, 100)\n",
    "        if (x >= 1 and x <= 90):\n",
    "            df['Left - right handed'].loc[index] = 'right handed'\n",
    "        else:\n",
    "            df['Left - right handed'].loc[index] = 'left handed'"
   ]
  },
  {
   "cell_type": "code",
   "execution_count": 11,
   "metadata": {},
   "outputs": [
    {
     "name": "stdout",
     "output_type": "stream",
     "text": [
      "74.8015873015873 25.198412698412696\n"
     ]
    },
    {
     "data": {
      "image/png": "[encoded data removed]",
      "text/plain": [
       "<Figure size 432x288 with 1 Axes>"
      ]
     },
     "metadata": {},
     "output_type": "display_data"
    }
   ],
   "source": [
    "valcount = df['Only child'].value_counts()\n",
    "noperc = (valcount['no'] / (valcount['yes'] + valcount['no'])) * 100\n",
    "yesperc = (valcount['yes'] / (valcount['yes'] + valcount['no'])) * 100\n",
    "print(noperc, yesperc)\n",
    "\n",
    "plt.pie(valcount, labels=['no', 'yes'], autopct='%1.0f%%')\n",
    "plt.show()\n"
   ]
  },
  {
   "cell_type": "code",
   "execution_count": 12,
   "metadata": {},
   "outputs": [
    {
     "name": "stderr",
     "output_type": "stream",
     "text": [
      "C:\\Users\\5570\\Anaconda3\\lib\\site-packages\\pandas\\core\\indexing.py:189: SettingWithCopyWarning: \n",
      "A value is trying to be set on a copy of a slice from a DataFrame\n",
      "\n",
      "See the caveats in the documentation: http://pandas.pydata.org/pandas-docs/stable/indexing.html#indexing-view-versus-copy\n",
      "  self._setitem_with_indexer(indexer, value)\n"
     ]
    }
   ],
   "source": [
    "for index, row in df['Only child'].iteritems():\n",
    "    if(isinstance(row, float)):\n",
    "        x = random.randint(1, 100)\n",
    "        if (x >= 1 and x <= 75):\n",
    "            df['Only child'].loc[index] = 'no'\n",
    "        else:\n",
    "            df['Only child'].loc[index] = 'yes'\n"
   ]
  },
  {
   "cell_type": "code",
   "execution_count": 13,
   "metadata": {},
   "outputs": [
    {
     "name": "stdout",
     "output_type": "stream",
     "text": [
      "29.721669980119287 70.27833001988071\n"
     ]
    },
    {
     "data": {
      "image/png": "[encoded data removed]",
      "text/plain": [
       "<Figure size 432x288 with 1 Axes>"
      ]
     },
     "metadata": {},
     "output_type": "display_data"
    }
   ],
   "source": [
    "# similar way to handle the missing value for the column 'Village-Town'\n",
    "valcount = df['Village - town'].value_counts()\n",
    "noperc = (valcount['village'] / (valcount['village'] + valcount['city'])) * 100\n",
    "yesperc = (valcount['city'] / (valcount['village'] + valcount['city'])) * 100\n",
    "print(noperc, yesperc)\n",
    "plt.pie(valcount, labels=['City', 'Village'], autopct='%1.0f%%')\n",
    "plt.show()\n"
   ]
  },
  {
   "cell_type": "code",
   "execution_count": 14,
   "metadata": {},
   "outputs": [
    {
     "name": "stderr",
     "output_type": "stream",
     "text": [
      "C:\\Users\\5570\\Anaconda3\\lib\\site-packages\\pandas\\core\\indexing.py:189: SettingWithCopyWarning: \n",
      "A value is trying to be set on a copy of a slice from a DataFrame\n",
      "\n",
      "See the caveats in the documentation: http://pandas.pydata.org/pandas-docs/stable/indexing.html#indexing-view-versus-copy\n",
      "  self._setitem_with_indexer(indexer, value)\n"
     ]
    }
   ],
   "source": [
    "for index,row in df['Village - town'].iteritems():\n",
    "    if(isinstance(row,float)):\n",
    "        x=random.randint(1,100)\n",
    "        if (x>=1 and x<=70):\n",
    "            df['Village - town'].loc[index]='city'\n",
    "        else:\n",
    "            df['Village - town'].loc[index]='village'"
   ]
  },
  {
   "cell_type": "code",
   "execution_count": 15,
   "metadata": {},
   "outputs": [
    {
     "name": "stdout",
     "output_type": "stream",
     "text": [
      "40.85487077534791 59.14512922465208\n"
     ]
    },
    {
     "data": {
      "image/png": "[encoded data removed]",
      "text/plain": [
       "<Figure size 432x288 with 1 Axes>"
      ]
     },
     "metadata": {},
     "output_type": "display_data"
    }
   ],
   "source": [
    "# similar way to handle the missing value for the column 'House - block of flats'\n",
    "valcount = df['House - block of flats'].value_counts()\n",
    "noperc = (valcount['house/bungalow'] /\n",
    "          (valcount['house/bungalow'] + valcount['block of flats'])) * 100\n",
    "yesperc = (valcount['block of flats'] /\n",
    "           (valcount['house/bungalow'] + valcount['block of flats'])) * 100\n",
    "print(noperc, yesperc)\n",
    "\n",
    "plt.pie(valcount, labels=['Flat', 'House'], autopct='%1.0f%%')\n",
    "plt.show()\n",
    "\n"
   ]
  },
  {
   "cell_type": "code",
   "execution_count": 16,
   "metadata": {},
   "outputs": [
    {
     "name": "stderr",
     "output_type": "stream",
     "text": [
      "C:\\Users\\5570\\Anaconda3\\lib\\site-packages\\pandas\\core\\indexing.py:189: SettingWithCopyWarning: \n",
      "A value is trying to be set on a copy of a slice from a DataFrame\n",
      "\n",
      "See the caveats in the documentation: http://pandas.pydata.org/pandas-docs/stable/indexing.html#indexing-view-versus-copy\n",
      "  self._setitem_with_indexer(indexer, value)\n"
     ]
    }
   ],
   "source": [
    "for index, row in df['House - block of flats'].iteritems():\n",
    "    if(isinstance(row, float)):\n",
    "        x = random.randint(1, 100)\n",
    "        if (x >= 1 and x <= 60):\n",
    "            df['House - block of flats'].loc[index] = 'block of flats'\n",
    "        else:\n",
    "            df['House - block of flats'].loc[index] = 'house/bungalow'\n"
   ]
  },
  {
   "cell_type": "code",
   "execution_count": 17,
   "metadata": {},
   "outputs": [
    {
     "name": "stdout",
     "output_type": "stream",
     "text": [
      "{'Achievements': 2}\n"
     ]
    }
   ],
   "source": [
    "# Printing the nan counts\n",
    "def nancount(x):\n",
    "    count = 0\n",
    "    a = df[x].isnull()\n",
    "    for val in a:\n",
    "        if(val):\n",
    "            count += 1\n",
    "    return count\n",
    "\n",
    "\n",
    "counts = {}\n",
    "for i in df.columns:\n",
    "    returnval = nancount(i)\n",
    "    if(returnval != 0):\n",
    "        counts[i] = nancount(i)\n",
    "print(counts)\n"
   ]
  },
  {
   "cell_type": "code",
   "execution_count": 18,
   "metadata": {},
   "outputs": [],
   "source": [
    "# replacing 1 and 2 for binary variables\n",
    "def replace1(col):\n",
    "    un=pd.unique(df[col])#find the unique values\n",
    "    j=1\n",
    "    dict_1={}# dictionary to assign numbers to each unique value\n",
    "    for i in un:\n",
    "        dict_1[i]=j\n",
    "        j+=1  \n",
    "    x=[]\n",
    "    #store the encoded categorical data\n",
    "    for index,row in df[col].iteritems():\n",
    "        x.append((dict_1[row])) \n",
    "    df[col]=x\n",
    "    \n",
    "NaN_Col = [\n",
    "    'Gender',\n",
    "    'Left - right handed',\n",
    "    'Only child',\n",
    "    'Village - town',\n",
    "    'House - block of flats',\n",
    "    'Internet usage']\n",
    "for i in NaN_Col:\n",
    "    replace1(i)"
   ]
  },
  {
   "cell_type": "code",
   "execution_count": 19,
   "metadata": {},
   "outputs": [
    {
     "name": "stderr",
     "output_type": "stream",
     "text": [
      "C:\\Users\\5570\\Anaconda3\\lib\\site-packages\\pandas\\core\\indexing.py:189: SettingWithCopyWarning: \n",
      "A value is trying to be set on a copy of a slice from a DataFrame\n",
      "\n",
      "See the caveats in the documentation: http://pandas.pydata.org/pandas-docs/stable/indexing.html#indexing-view-versus-copy\n",
      "  self._setitem_with_indexer(indexer, value)\n"
     ]
    }
   ],
   "source": [
    "# replace nan values of achievements column with its median\n",
    "med1=np.nanmedian(df.Achievements)\n",
    "for index,row in df.Achievements.iteritems():\n",
    "    a=df.Achievements.isnull()\n",
    "    for val in a:\n",
    "        if(val == True):\n",
    "            df.Achievements.loc[index]=med1           "
   ]
  },
  {
   "cell_type": "code",
   "execution_count": 20,
   "metadata": {},
   "outputs": [
    {
     "name": "stdout",
     "output_type": "stream",
     "text": [
      "{}\n"
     ]
    }
   ],
   "source": [
    "#printing the final nan counts\n",
    "def nancount(x):\n",
    "    count=0\n",
    "    a=df[x].isnull()\n",
    "    for val in a:\n",
    "        if(val == True):\n",
    "            count+=1\n",
    "    return count\n",
    "    \n",
    "counts={}\n",
    "for i in df.columns:\n",
    "    returnval=nancount(i)\n",
    "    if(returnval!=0):\n",
    "        counts[i]=nancount(i)\n",
    "print(counts)"
   ]
  },
  {
   "cell_type": "code",
   "execution_count": 21,
   "metadata": {},
   "outputs": [
    {
     "name": "stderr",
     "output_type": "stream",
     "text": [
      "C:\\Users\\5570\\Anaconda3\\lib\\site-packages\\scipy\\stats\\stats.py:1713: FutureWarning: Using a non-tuple sequence for multidimensional indexing is deprecated; use `arr[tuple(seq)]` instead of `arr[seq]`. In the future this will be interpreted as an array index, `arr[np.array(seq)]`, which will result either in an error or a different result.\n",
      "  return np.add.reduce(sorted[indexer] * weights, axis=axis) / sumval\n",
      "C:\\Users\\5570\\Anaconda3\\lib\\site-packages\\matplotlib\\axes\\_axes.py:6462: UserWarning: The 'normed' kwarg is deprecated, and has been replaced by the 'density' kwarg.\n",
      "  warnings.warn(\"The 'normed' kwarg is deprecated, and has been \"\n"
     ]
    },
    {
     "data": {
      "image/png": "[encoded data removed]",
      "text/plain": [
       "<Figure size 432x288 with 1 Axes>"
      ]
     },
     "metadata": {},
     "output_type": "display_data"
    }
   ],
   "source": [
    "# histogram of age\n",
    "sns.set(color_codes=True)\n",
    "sns.distplot(df.Age)\n",
    "plt.show()\n"
   ]
  },
  {
   "cell_type": "code",
   "execution_count": 22,
   "metadata": {},
   "outputs": [
    {
     "name": "stderr",
     "output_type": "stream",
     "text": [
      "C:\\Users\\5570\\Anaconda3\\lib\\site-packages\\matplotlib\\axes\\_axes.py:6462: UserWarning: The 'normed' kwarg is deprecated, and has been replaced by the 'density' kwarg.\n",
      "  warnings.warn(\"The 'normed' kwarg is deprecated, and has been \"\n",
      "C:\\Users\\5570\\Anaconda3\\lib\\site-packages\\matplotlib\\axes\\_axes.py:6462: UserWarning: The 'normed' kwarg is deprecated, and has been replaced by the 'density' kwarg.\n",
      "  warnings.warn(\"The 'normed' kwarg is deprecated, and has been \"\n"
     ]
    },
    {
     "data": {
      "text/plain": [
       "<matplotlib.legend.Legend at 0x1ad1a302c18>"
      ]
     },
     "execution_count": 22,
     "metadata": {},
     "output_type": "execute_result"
    },
    {
     "data": {
      "image/png": "[encoded data removed]",
      "text/plain": [
       "<Figure size 720x360 with 1 Axes>"
      ]
     },
     "metadata": {},
     "output_type": "display_data"
    }
   ],
   "source": [
    "# Histogram of age grouped by place of stay\n",
    "fig, ax = plt.subplots(figsize=(10, 5))\n",
    "\n",
    "var_of_int_ser = df['Village - town']\n",
    "sns.distplot(df[var_of_int_ser == 1].Age.dropna(),\n",
    "             label='village', ax=ax, kde=False, bins=30)\n",
    "\n",
    "sns.distplot(df[var_of_int_ser == 2].Age.dropna(),\n",
    "             label='city', ax=ax, kde=False, bins=30)\n",
    "ax.legend()\n"
   ]
  },
  {
   "cell_type": "code",
   "execution_count": 23,
   "metadata": {},
   "outputs": [
    {
     "name": "stderr",
     "output_type": "stream",
     "text": [
      "C:\\Users\\5570\\Anaconda3\\lib\\site-packages\\matplotlib\\axes\\_axes.py:6462: UserWarning: The 'normed' kwarg is deprecated, and has been replaced by the 'density' kwarg.\n",
      "  warnings.warn(\"The 'normed' kwarg is deprecated, and has been \"\n",
      "C:\\Users\\5570\\Anaconda3\\lib\\site-packages\\matplotlib\\axes\\_axes.py:6462: UserWarning: The 'normed' kwarg is deprecated, and has been replaced by the 'density' kwarg.\n",
      "  warnings.warn(\"The 'normed' kwarg is deprecated, and has been \"\n"
     ]
    },
    {
     "data": {
      "text/plain": [
       "<matplotlib.legend.Legend at 0x1ad181be4a8>"
      ]
     },
     "execution_count": 23,
     "metadata": {},
     "output_type": "execute_result"
    },
    {
     "data": {
      "image/png": "[encoded data removed]",
      "text/plain": [
       "<Figure size 720x360 with 1 Axes>"
      ]
     },
     "metadata": {},
     "output_type": "display_data"
    }
   ],
   "source": [
    "# histogram of age grouped by gender\n",
    "fig, ax = plt.subplots(figsize=(10, 5))\n",
    "\n",
    "var_of_int_ser = df['Gender']\n",
    "sns.distplot(df[var_of_int_ser == 1].Age.dropna(),\n",
    "             label='female', ax=ax, kde=False, bins=30)\n",
    "\n",
    "sns.distplot(df[var_of_int_ser == 2].Age.dropna(),\n",
    "             label='male', ax=ax, kde=False, bins=30)\n",
    "ax.legend()"
   ]
  },
  {
   "cell_type": "code",
   "execution_count": 24,
   "metadata": {},
   "outputs": [
    {
     "data": {
      "text/plain": [
       "<matplotlib.axes._subplots.AxesSubplot at 0x1ad1a509240>"
      ]
     },
     "execution_count": 24,
     "metadata": {},
     "output_type": "execute_result"
    },
    {
     "data": {
      "image/png": "[encoded data removed]",
      "text/plain": [
       "<Figure size 792x648 with 2 Axes>"
      ]
     },
     "metadata": {},
     "output_type": "display_data"
    }
   ],
   "source": [
    "# selecting the important variables for hobbies and interests in data and\n",
    "# plotting a correlation grid\n",
    "data = [\n",
    "    'Reading',\n",
    "    'Science and technology',\n",
    "    'Dancing',\n",
    "    'Writing',\n",
    "    'Musical instruments',\n",
    "    'Theatre',\n",
    "    'Pets',\n",
    "    'Fun with friends',\n",
    "    'Adrenaline sports',\n",
    "    'Darkness',\n",
    "    'Snakes',\n",
    "    'Horror',\n",
    "    'Comedy',\n",
    "    'Romantic',\n",
    "    'Thriller',\n",
    "    'Sci-fi',\n",
    "    'Documentary',\n",
    "    'Action',\n",
    "    'War']\n",
    "corr = df[data].corr()\n",
    "mask = np.zeros_like(corr, dtype=np.bool)\n",
    "mask[np.triu_indices_from(mask)] = True\n",
    "f, ax = plt.subplots(figsize=(11, 9))\n",
    "cmap = sns.diverging_palette(100, 20, as_cmap=True)\n",
    "sns.heatmap(\n",
    "    corr,\n",
    "    mask=mask,\n",
    "    cmap=cmap,\n",
    "    vmax=.3,\n",
    "    center=0,\n",
    "    square=True,\n",
    "    linewidths=.5)\n"
   ]
  },
  {
   "cell_type": "code",
   "execution_count": 25,
   "metadata": {},
   "outputs": [
    {
     "data": {
      "image/png": "[encoded data removed]",
      "text/plain": [
       "<Figure size 432x288 with 1 Axes>"
      ]
     },
     "metadata": {},
     "output_type": "display_data"
    }
   ],
   "source": [
    "# boxplot of Age (since the outliers aren't way out of bound, cleaning it\n",
    "# is not needed)\n",
    "plt.boxplot(df['Age'])\n",
    "plt.ylabel('Age')\n",
    "plt.show()"
   ]
  },
  {
   "cell_type": "code",
   "execution_count": 26,
   "metadata": {},
   "outputs": [
    {
     "data": {
      "image/png": "[encoded data removed]",
      "text/plain": [
       "<Figure size 432x288 with 1 Axes>"
      ]
     },
     "metadata": {},
     "output_type": "display_data"
    }
   ],
   "source": [
    "# boxplot of weight before cleaning\n",
    "plt.boxplot(df.Weight)\n",
    "plt.show()"
   ]
  },
  {
   "cell_type": "code",
   "execution_count": 27,
   "metadata": {},
   "outputs": [
    {
     "name": "stderr",
     "output_type": "stream",
     "text": [
      "C:\\Users\\5570\\Anaconda3\\lib\\site-packages\\pandas\\core\\indexing.py:189: SettingWithCopyWarning: \n",
      "A value is trying to be set on a copy of a slice from a DataFrame\n",
      "\n",
      "See the caveats in the documentation: http://pandas.pydata.org/pandas-docs/stable/indexing.html#indexing-view-versus-copy\n",
      "  self._setitem_with_indexer(indexer, value)\n"
     ]
    },
    {
     "data": {
      "image/png": "[encoded data removed]",
      "text/plain": [
       "<Figure size 432x288 with 1 Axes>"
      ]
     },
     "metadata": {},
     "output_type": "display_data"
    }
   ],
   "source": [
    "# converting pound to kg as outliers is in pound (kg does not make sense)\n",
    "for index, row in df.Weight.iteritems():\n",
    "    if(row >= 100):\n",
    "        df.Weight.loc[index] = row * 0.454\n",
    "\n",
    "# boxplot of height before cleaning\n",
    "plt.boxplot(df.Height)\n",
    "plt.show()"
   ]
  },
  {
   "cell_type": "code",
   "execution_count": 28,
   "metadata": {},
   "outputs": [
    {
     "name": "stderr",
     "output_type": "stream",
     "text": [
      "C:\\Users\\5570\\Anaconda3\\lib\\site-packages\\pandas\\core\\indexing.py:189: SettingWithCopyWarning: \n",
      "A value is trying to be set on a copy of a slice from a DataFrame\n",
      "\n",
      "See the caveats in the documentation: http://pandas.pydata.org/pandas-docs/stable/indexing.html#indexing-view-versus-copy\n",
      "  self._setitem_with_indexer(indexer, value)\n"
     ]
    },
    {
     "data": {
      "image/png": "[encoded data removed]",
      "text/plain": [
       "<Figure size 432x288 with 1 Axes>"
      ]
     },
     "metadata": {},
     "output_type": "display_data"
    }
   ],
   "source": [
    "# converting inch to cm as 60cm is not possible for a human\n",
    "for index, row in df.Height.iteritems():\n",
    "    if(row <= 130):\n",
    "        df.Height.loc[index] = row * 2.54\n",
    "\n",
    "# plot of height after replacing outliers\n",
    "plt.boxplot(df.Height)\n",
    "plt.show()"
   ]
  },
  {
   "cell_type": "code",
   "execution_count": 29,
   "metadata": {},
   "outputs": [
    {
     "data": {
      "image/png": "[encoded data removed]",
      "text/plain": [
       "<Figure size 432x288 with 1 Axes>"
      ]
     },
     "metadata": {},
     "output_type": "display_data"
    }
   ],
   "source": [
    "# plot of weight after replacing outliers\n",
    "plt.boxplot(df.Weight)\n",
    "plt.show()\n"
   ]
  },
  {
   "cell_type": "code",
   "execution_count": 30,
   "metadata": {},
   "outputs": [
    {
     "data": {
      "image/png": "[encoded data removed]",
      "text/plain": [
       "<Figure size 432x288 with 1 Axes>"
      ]
     },
     "metadata": {},
     "output_type": "display_data"
    }
   ],
   "source": [
    "# calculating bmi\n",
    "df['BMI'] = round(df['Weight'] / ((df['Height'] / 100)**2), 1)\n",
    "\n",
    "# plot for BMI vs Age\n",
    "plt.bar(df['Age'], df['BMI'])\n",
    "plt.xlabel('Age')\n",
    "plt.ylabel('BMI')\n",
    "plt.show()\n"
   ]
  },
  {
   "cell_type": "code",
   "execution_count": 31,
   "metadata": {},
   "outputs": [
    {
     "name": "stdout",
     "output_type": "stream",
     "text": [
      "5.0\n",
      "4.732673267326732\n"
     ]
    },
    {
     "data": {
      "image/png": "[encoded data removed]",
      "text/plain": [
       "<Figure size 432x288 with 1 Axes>"
      ]
     },
     "metadata": {},
     "output_type": "display_data"
    }
   ],
   "source": [
    "# histogram, median, mean for Music\n",
    "plt.hist(df.Music)\n",
    "print(np.median(df.Music))\n",
    "print(np.mean(df.Music))\n",
    "plt.xlabel('Music rated based on likes')\n",
    "plt.show()"
   ]
  },
  {
   "cell_type": "code",
   "execution_count": 32,
   "metadata": {},
   "outputs": [
    {
     "name": "stdout",
     "output_type": "stream",
     "text": [
      "5.0\n",
      "4.6158415841584155\n"
     ]
    },
    {
     "data": {
      "image/png": "[encoded data removed]",
      "text/plain": [
       "<Figure size 432x288 with 1 Axes>"
      ]
     },
     "metadata": {},
     "output_type": "display_data"
    }
   ],
   "source": [
    "# histogram, median, mean for Movies\n",
    "plt.hist(df.Movies)\n",
    "print(np.median(df.Movies))\n",
    "print(np.mean(df.Movies))\n",
    "plt.xlabel('Movies rated based on likes')\n",
    "plt.show()"
   ]
  },
  {
   "cell_type": "code",
   "execution_count": 33,
   "metadata": {},
   "outputs": [],
   "source": [
    "# splitting into training and test data for PCA\n",
    "y = df.Movies\n",
    "y1 = df[df.columns[0:19]]\n",
    "y2 = df[df.columns[20:150]]\n",
    "X = pd.concat([y1, y2], axis=1)\n",
    "X_train, X_test, y_train, y_test = train_test_split(\n",
    "    X, y, test_size=0.2, random_state=0)"
   ]
  },
  {
   "cell_type": "code",
   "execution_count": 34,
   "metadata": {},
   "outputs": [],
   "source": [
    "# feature scaling\n",
    "sc = StandardScaler()\n",
    "\n",
    "X_train = sc.fit_transform(X_train)\n",
    "X_test = sc.transform(X_test)"
   ]
  },
  {
   "cell_type": "code",
   "execution_count": 35,
   "metadata": {},
   "outputs": [],
   "source": [
    "# Applying PCA function on training\n",
    "# and testing set of X component\n",
    "\n",
    "pca = PCA(n_components=120)\n",
    "\n",
    "X_train = pca.fit_transform(X_train)\n",
    "X_test = pca.transform(X_test)\n",
    "\n",
    "explained_variance = pca.explained_variance_ratio_"
   ]
  },
  {
   "cell_type": "code",
   "execution_count": 36,
   "metadata": {},
   "outputs": [
    {
     "data": {
      "image/png": "[encoded data removed]",
      "text/plain": [
       "<Figure size 432x288 with 1 Axes>"
      ]
     },
     "metadata": {},
     "output_type": "display_data"
    }
   ],
   "source": [
    "'''this is to check the variance chanes based on number of components. Since after 120, not much change is there, we choose\n",
    "that as n_components in PCA'''\n",
    "plt.plot(np.cumsum(pca.explained_variance_ratio_))\n",
    "plt.xlabel('Number of Components')\n",
    "plt.ylabel('Variance (%)')  # for each component\n",
    "plt.title('Responses Dataset Explained Variance')\n",
    "plt.show()"
   ]
  },
  {
   "cell_type": "code",
   "execution_count": 37,
   "metadata": {},
   "outputs": [
    {
     "name": "stdout",
     "output_type": "stream",
     "text": [
      "         0  1\n",
      "0        0  1\n",
      "1        1  1\n",
      "2        2  1\n",
      "3        3  1\n",
      "4        4  1\n",
      "5        5  1\n",
      "6        6  1\n",
      "7        7  1\n",
      "8        8  1\n",
      "9        9  1\n",
      "10      10  1\n",
      "11      11  1\n",
      "12      12  0\n",
      "13      13  1\n",
      "14      14  1\n",
      "15      15  1\n",
      "16      16  1\n",
      "17      17  1\n",
      "18      18  1\n",
      "19      19  1\n",
      "20      20  1\n",
      "21      21  0\n",
      "22      22  1\n",
      "23      23  1\n",
      "24      24  1\n",
      "25      25  1\n",
      "26      26  1\n",
      "27      27  1\n",
      "28      28  1\n",
      "29      29  1\n",
      "...    ... ..\n",
      "980    980  1\n",
      "981    981  1\n",
      "982    982  1\n",
      "983    983  1\n",
      "984    984  1\n",
      "985    985  1\n",
      "986    986  1\n",
      "987    987  1\n",
      "988    988  1\n",
      "989    989  0\n",
      "990    990  0\n",
      "991    991  1\n",
      "992    992  0\n",
      "993    993  1\n",
      "994    994  1\n",
      "995    995  1\n",
      "996    996  1\n",
      "997    997  1\n",
      "998    998  0\n",
      "999    999  1\n",
      "1000  1000  1\n",
      "1001  1001  1\n",
      "1002  1002  1\n",
      "1003  1003  1\n",
      "1004  1004  1\n",
      "1005  1005  1\n",
      "1006  1006  0\n",
      "1007  1007  1\n",
      "1008  1008  0\n",
      "1009  1009  1\n",
      "\n",
      "[1010 rows x 2 columns]\n"
     ]
    },
    {
     "data": {
      "text/plain": [
       "<matplotlib.colorbar.Colorbar at 0x1ad1b0aba20>"
      ]
     },
     "execution_count": 37,
     "metadata": {},
     "output_type": "execute_result"
    },
    {
     "data": {
      "image/png": "[encoded data removed]",
      "text/plain": [
       "<Figure size 432x288 with 2 Axes>"
      ]
     },
     "metadata": {},
     "output_type": "display_data"
    }
   ],
   "source": [
    "# Kmeans clustering for clustering based on Age\n",
    "\n",
    "df_test = pd.DataFrame(columns=['Age', 'Movies'])\n",
    "df_test['Age'] = df.Age\n",
    "df_test['Movies'] = df.Movies\n",
    "mat = df_test.values\n",
    "# divide the data into 2 clusters\n",
    "kmeans = KMeans(n_clusters=2, random_state=10)\n",
    "kmeans.fit(mat)\n",
    "labels = kmeans.labels_\n",
    "results = pd.DataFrame([df_test.index, labels]).T\n",
    "print(results)\n",
    "# plotting a scatter plot\n",
    "fig = plt.figure()\n",
    "ax = fig.add_subplot(111)\n",
    "scatter = ax.scatter(df_test['Age'], df_test['Movies'], c=results[1], s=50)\n",
    "plt.colorbar(scatter)"
   ]
  },
  {
   "cell_type": "code",
   "execution_count": 38,
   "metadata": {},
   "outputs": [
    {
     "name": "stdout",
     "output_type": "stream",
     "text": [
      "rmse 0.7677024984230189\n",
      "r-squared 0.08716886647295063\n"
     ]
    }
   ],
   "source": [
    "# multiple linear regression\n",
    "\n",
    "# regression on genre 'Comedy'\n",
    "X = pd.DataFrame(np.c_[df.iloc[:, 31:73]])\n",
    "y = df['Comedy']\n",
    "\n",
    "# splitting the data into train and test\n",
    "X_train, X_test, y_train, y_test = train_test_split(\n",
    "    X, y, test_size=0.2, random_state=9)\n",
    "\n",
    "lin_reg_mod = LinearRegression()\n",
    "\n",
    "# fit the model\n",
    "lin_reg_mod.fit(X_train, y_train)\n",
    "\n",
    "# test the model\n",
    "pred = lin_reg_mod.predict(X_test)\n",
    "\n",
    "test_set_rmse = (np.sqrt(mean_squared_error(y_test, pred)))\n",
    "\n",
    "test_set_r2 = r2_score(y_test, pred)\n",
    "\n",
    "# error rates\n",
    "print(\"rmse\", test_set_rmse)\n",
    "print(\"r-squared\", test_set_r2)\n"
   ]
  },
  {
   "cell_type": "code",
   "execution_count": 39,
   "metadata": {},
   "outputs": [
    {
     "name": "stdout",
     "output_type": "stream",
     "text": [
      "Init: initializing centroids\n",
      "Init: initializing clusters\n",
      "Starting iterations...\n",
      "Run 1, iteration: 1/100, moves: 0, cost: 883.0\n",
      "Init: initializing centroids\n",
      "Init: initializing clusters\n",
      "Starting iterations...\n",
      "Run 2, iteration: 1/100, moves: 0, cost: 883.0\n",
      "Init: initializing centroids\n",
      "Init: initializing clusters\n",
      "Starting iterations...\n",
      "Run 3, iteration: 1/100, moves: 0, cost: 1073.0\n",
      "Init: initializing centroids\n",
      "Init: initializing clusters\n",
      "Starting iterations...\n",
      "Run 4, iteration: 1/100, moves: 0, cost: 883.0\n",
      "Init: initializing centroids\n",
      "Init: initializing clusters\n",
      "Starting iterations...\n",
      "Run 5, iteration: 1/100, moves: 29, cost: 866.0\n",
      "Run 5, iteration: 2/100, moves: 0, cost: 866.0\n",
      "Best run was number 5\n"
     ]
    },
    {
     "data": {
      "text/plain": [
       "<matplotlib.colorbar.Colorbar at 0x1ad1a30a470>"
      ]
     },
     "execution_count": 39,
     "metadata": {},
     "output_type": "execute_result"
    },
    {
     "data": {
      "image/png": "[encoded data removed]",
      "text/plain": [
       "<Figure size 432x288 with 2 Axes>"
      ]
     },
     "metadata": {},
     "output_type": "display_data"
    }
   ],
   "source": [
    "# kmodes clustering on Age\n",
    "# divide the data into 2 clusters\n",
    "data = pd.DataFrame({'Movies': df['Movies'], 'Age': df['Age']})\n",
    "\n",
    "km = KModes(n_clusters=2, init='Huang', n_init=5, verbose=1)\n",
    "clusters = km.fit_predict(data)\n",
    "fig = plt.figure()\n",
    "# plotting the scatter plot\n",
    "ax = fig.add_subplot(111)\n",
    "scatter = ax.scatter(data['Age'], data['Movies'], c=clusters, s=50)\n",
    "plt.colorbar(scatter)"
   ]
  },
  {
   "cell_type": "code",
   "execution_count": 40,
   "metadata": {},
   "outputs": [
    {
     "data": {
      "text/plain": [
       "10285.0"
      ]
     },
     "execution_count": 40,
     "metadata": {},
     "output_type": "execute_result"
    }
   ],
   "source": [
    "# agglomerative clustering based on centroid distance\n",
    "from kmodes.kmodes import KModes\n",
    "# select the required columns\n",
    "per = pd.DataFrame(np.c_[df.iloc[:,31:73]])\n",
    "#kmodes clustering with initial cluster as 500\n",
    "km = KModes(n_clusters=500,\n",
    "            max_iter=1000,\n",
    "            init='Huang',\n",
    "            n_init=2,\n",
    "            n_jobs=-1)\n",
    "\n",
    "m1 = km.fit(per)\n",
    "#print the cost of clustering \n",
    "m1.cost_"
   ]
  },
  {
   "cell_type": "code",
   "execution_count": 41,
   "metadata": {},
   "outputs": [
    {
     "data": {
      "text/plain": [
       "5055.0"
      ]
     },
     "execution_count": 41,
     "metadata": {},
     "output_type": "execute_result"
    }
   ],
   "source": [
    "# reduce the clusters gradually till the cost is minimized\n",
    "mdl1 = m1.cluster_centroids_\n",
    "km1 = KModes(n_clusters=250,\n",
    "             max_iter=1000,\n",
    "             init='Huang',\n",
    "             n_init=2,\n",
    "             n_jobs=-1)\n",
    "\n",
    "m2 = km1.fit(mdl1)\n",
    "#print(m2.cluster_centroids_)\n",
    "m2.cost_"
   ]
  },
  {
   "cell_type": "code",
   "execution_count": 42,
   "metadata": {},
   "outputs": [
    {
     "data": {
      "text/plain": [
       "2437.0"
      ]
     },
     "execution_count": 42,
     "metadata": {},
     "output_type": "execute_result"
    }
   ],
   "source": [
    "mdl2 = m2.cluster_centroids_\n",
    "km2 = KModes(n_clusters=125,\n",
    "             max_iter=1000,\n",
    "             init='Huang',\n",
    "             n_init=2,\n",
    "             n_jobs=-1)\n",
    "\n",
    "m3= km2.fit(mdl2)\n",
    "#print(m3.cluster_centroids_)\n",
    "m3.cost_"
   ]
  },
  {
   "cell_type": "code",
   "execution_count": 43,
   "metadata": {},
   "outputs": [
    {
     "data": {
      "text/plain": [
       "1125.0"
      ]
     },
     "execution_count": 43,
     "metadata": {},
     "output_type": "execute_result"
    }
   ],
   "source": [
    "mdl3 = m3.cluster_centroids_\n",
    "km3 = KModes(n_clusters=62,\n",
    "             max_iter=1000,\n",
    "             init='Huang',\n",
    "             n_init=2,\n",
    "             n_jobs=-1)\n",
    "\n",
    "m4= km3.fit(mdl3)\n",
    "#print(m4.cluster_centroids_)\n",
    "m4.cost_"
   ]
  },
  {
   "cell_type": "code",
   "execution_count": 44,
   "metadata": {},
   "outputs": [
    {
     "data": {
      "text/plain": [
       "471.0"
      ]
     },
     "execution_count": 44,
     "metadata": {},
     "output_type": "execute_result"
    }
   ],
   "source": [
    "mdl4 = m4.cluster_centroids_\n",
    "km4 = KModes(n_clusters=31,\n",
    "             max_iter=1000,\n",
    "             init='Huang',\n",
    "             n_init=2,\n",
    "             n_jobs=-1)\n",
    "\n",
    "m5 = km4.fit(mdl4)\n",
    "#print(m5.cluster_centroids_)\n",
    "m5.cost_"
   ]
  },
  {
   "cell_type": "code",
   "execution_count": 45,
   "metadata": {},
   "outputs": [
    {
     "data": {
      "text/plain": [
       "201.0"
      ]
     },
     "execution_count": 45,
     "metadata": {},
     "output_type": "execute_result"
    }
   ],
   "source": [
    "mdl5 = m5.cluster_centroids_\n",
    "km5 = KModes(n_clusters=15,\n",
    "             max_iter=1000,\n",
    "             init='Huang',\n",
    "             n_init=2,\n",
    "             n_jobs=-1)\n",
    "\n",
    "m6 = km5.fit(mdl5)\n",
    "#print(m6.cluster_centroids_)\n",
    "m6.cost_"
   ]
  },
  {
   "cell_type": "code",
   "execution_count": 46,
   "metadata": {},
   "outputs": [
    {
     "data": {
      "text/plain": [
       "40.0"
      ]
     },
     "execution_count": 46,
     "metadata": {},
     "output_type": "execute_result"
    }
   ],
   "source": [
    "mdl6 = m6.cluster_centroids_\n",
    "km6 = KModes(n_clusters=10,\n",
    "             max_iter=1000,\n",
    "             init='Cao',\n",
    "             n_init=2,\n",
    "             n_jobs=-1)\n",
    "\n",
    "m7 = km6.fit(mdl6)\n",
    "#print(m7.cluster_centroids_)\n",
    "m7.cost_"
   ]
  },
  {
   "cell_type": "code",
   "execution_count": 47,
   "metadata": {},
   "outputs": [
    {
     "name": "stdout",
     "output_type": "stream",
     "text": [
      "20.0\n"
     ]
    }
   ],
   "source": [
    "mdl7 = m7.cluster_centroids_\n",
    "km7 = KModes(n_clusters=8,\n",
    "             max_iter=1000,\n",
    "             init='Cao',\n",
    "             n_init=2,\n",
    "             n_jobs=-1)\n",
    "\n",
    "m8 = km7.fit(mdl7)\n",
    "mfin_clust=m8.cluster_centroids_\n",
    "print(m8.cost_)"
   ]
  },
  {
   "cell_type": "code",
   "execution_count": 48,
   "metadata": {},
   "outputs": [
    {
     "name": "stdout",
     "output_type": "stream",
     "text": [
      "[[1. 1. 1. 1. 1. 3. 1. 1. 1. 1. 1. 1. 2. 1. 1. 1. 1. 1. 1. 1. 1. 1. 1. 1.\n",
      "  1. 1. 1. 1. 1. 5. 1. 1. 1. 1. 1. 1. 1. 1. 1. 1. 1. 1.]\n",
      " [1. 2. 1. 1. 1. 4. 2. 2. 1. 1. 1. 1. 3. 1. 1. 1. 1. 2. 4. 1. 1. 1. 2. 3.\n",
      "  1. 1. 3. 2. 3. 4. 1. 2. 1. 1. 1. 1. 1. 2. 1. 1. 3. 2.]\n",
      " [2. 1. 1. 1. 1. 4. 2. 1. 2. 1. 1. 2. 3. 2. 1. 1. 1. 1. 3. 1. 1. 1. 2. 1.\n",
      "  1. 1. 2. 3. 2. 4. 1. 3. 1. 1. 1. 1. 1. 1. 1. 1. 1. 3.]\n",
      " [3. 2. 3. 1. 1. 4. 1. 2. 1. 1. 1. 2. 3. 1. 2. 1. 1. 1. 1. 1. 1. 1. 1. 1.\n",
      "  1. 1. 2. 3. 1. 4. 2. 1. 1. 1. 1. 1. 1. 1. 1. 1. 1. 2.]\n",
      " [1. 1. 1. 2. 3. 4. 3. 1. 1. 1. 2. 2. 2. 1. 1. 1. 1. 1. 5. 1. 1. 1. 1. 1.\n",
      "  1. 1. 1. 3. 2. 5. 1. 1. 1. 1. 1. 1. 1. 2. 1. 2. 1. 1.]\n",
      " [2. 2. 1. 2. 2. 3. 2. 1. 1. 1. 2. 3. 1. 1. 1. 1. 1. 1. 4. 1. 1. 1. 1. 1.\n",
      "  1. 1. 1. 1. 2. 3. 1. 1. 1. 1. 1. 2. 1. 1. 1. 2. 2. 1.]\n",
      " [3. 1. 1. 1. 1. 1. 1. 2. 2. 1. 2. 2. 3. 1. 1. 1. 2. 1. 2. 1. 1. 1. 1. 1.\n",
      "  1. 1. 2. 1. 2. 5. 1. 1. 1. 1. 1. 1. 1. 1. 1. 1. 1. 1.]\n",
      " [1. 1. 1. 1. 1. 5. 3. 1. 1. 1. 1. 2. 1. 1. 1. 4. 1. 1. 2. 1. 1. 1. 5. 5.\n",
      "  1. 2. 1. 2. 1. 5. 3. 4. 1. 1. 1. 1. 1. 1. 1. 1. 1. 1.]]\n",
      "Somebody who likes socializing, spends a lot of time on the internet. (Hence might go out often in a car.)\n",
      "In general, people who like learning foreign languages aren't afraid of public speaking.\n",
      "In general, people who are scared of dangerous dogs do not have pets.\n",
      "Youth in Slovakia do not prefer any trivial educational subjects like Mathematics, Biology, History, etc.\n",
      "In this new era of internet and youth addicted to it, extra hobbies and interest in studies is fading away.\n"
     ]
    }
   ],
   "source": [
    "# The min cost is obtained when number of clusters = 8\n",
    "mfin=km7.fit_predict(per)\n",
    "fin=pd.DataFrame(mfin)\n",
    "print(mfin_clust)\n",
    "print('Somebody who likes socializing, spends a lot of time on the internet. (Hence might go out often in a car.)')\n",
    "print('In general, people who like learning foreign languages aren\\'t afraid of public speaking.')\n",
    "print('In general, people who are scared of dangerous dogs do not have pets.')\n",
    "print('Youth in Slovakia do not prefer any trivial educational subjects like Mathematics, Biology, History, etc.')\n",
    "print('In this new era of internet and youth addicted to it, extra hobbies and interest in studies is fading away.')\n"
   ]
  },
  {
   "cell_type": "code",
   "execution_count": 49,
   "metadata": {},
   "outputs": [],
   "source": [
    "# select the required columns\n",
    "df1=df.iloc[:,20:73]\n",
    "\n",
    "# add a new column which has the final classification\n",
    "df1['clusters']=mfin\n",
    "\n",
    "# In order to find the similarity between the users, we group the users who belong to the same cluster\n",
    "df_fin=df1.groupby(['clusters'])\n"
   ]
  },
  {
   "cell_type": "code",
   "execution_count": 50,
   "metadata": {},
   "outputs": [],
   "source": [
    "fin_0=df_fin.get_group(0)\n",
    "\n",
    "fin_1=df_fin.get_group(1)\n",
    "\n",
    "fin_2=df_fin.get_group(2)\n",
    "\n",
    "fin_3=df_fin.get_group(3)\n",
    "\n",
    "fin_4=df_fin.get_group(4)\n",
    "\n",
    "fin_5=df_fin.get_group(5)\n",
    "\n",
    "fin_6=df_fin.get_group(6)\n",
    "\n",
    "fin_7=df_fin.get_group(7)\n"
   ]
  },
  {
   "cell_type": "code",
   "execution_count": 51,
   "metadata": {},
   "outputs": [],
   "source": [
    "#convert the centroids of a cluster into a list\n",
    "mfin_clust=list(mfin_clust)"
   ]
  },
  {
   "cell_type": "code",
   "execution_count": 52,
   "metadata": {},
   "outputs": [
    {
     "name": "stdout",
     "output_type": "stream",
     "text": [
      "[5, 2, 4, 3, 3, 5, 2, 2, 2, 4, 5, 1, 5, 3, 3, 4, 1, 1, 2, 4, 5, 2, 2, 2, 5, 3, 2, 5, 2, 5, 5, 5, 1, 3, 3, 2, 4, 5, 1, 4, 3, 2]\n"
     ]
    }
   ],
   "source": [
    "# create a new user\n",
    "y=[]\n",
    "\n",
    "# the preferences of the user is obtained by generating a random number between 1-5 for all the 42 columns\n",
    "for i in range(0,42):\n",
    "    x=random.randint(1,5)\n",
    "    y.append(x)\n",
    "    \n",
    "# y is the list of user preferences\n",
    "print(y)"
   ]
  },
  {
   "cell_type": "code",
   "execution_count": 53,
   "metadata": {},
   "outputs": [],
   "source": [
    "# Euclidian distance between y and the centroid of each cluster\n",
    "# The calculated distances are stored in a dictionary with the key = cluster numbers\n",
    "distance={}\n",
    "\n",
    "for i in range(0,8):\n",
    "    distance[i]=(math.sqrt(sum([(a - b) ** 2 for a, b in zip(mfin_clust[i], y)])))\n",
    "    \n",
    "# minimum distance is calculated using the values of the dictionary \n",
    "min_clust=min(distance, key=distance.get)"
   ]
  },
  {
   "cell_type": "code",
   "execution_count": 54,
   "metadata": {},
   "outputs": [],
   "source": [
    "#the user is classified into the cluster\n",
    "df_clust=df_fin.get_group(min_clust)"
   ]
  },
  {
   "cell_type": "code",
   "execution_count": 55,
   "metadata": {},
   "outputs": [],
   "source": [
    "#similarity for y and df_clust\n",
    "# drop the columns containing movie genre as the similarity between the users is calculated using the hobbies preferences\n",
    "df_clust2=df_clust.drop(['Horror','Romantic','Comedy','Thriller','Sci-fi','War','Fantasy/Fairy tales','Western','Animated',\n",
    "                         'Documentary','Action'],axis=1)"
   ]
  },
  {
   "cell_type": "code",
   "execution_count": 56,
   "metadata": {},
   "outputs": [],
   "source": [
    "# insert a new column called index as each user needs to have one unique identity\n",
    "ind=list(range(0,len(df_clust2)))\n",
    "df_clust2.insert(0,'Index',ind)"
   ]
  },
  {
   "cell_type": "code",
   "execution_count": 57,
   "metadata": {},
   "outputs": [],
   "source": [
    "# function to calculate the cosine similarity\n",
    "def sim(a,b):\n",
    "    cos_sim = dot(a, b)/(norm(a)*norm(b))\n",
    "    return cos_sim\n",
    "\n",
    "# add the index column to the dataframe\n",
    "df_clust2['Index']\n",
    "\n",
    "# dictinary to store the user-user similarity\n",
    "xz_dict={}\n",
    "\n",
    "for j in range(0,len(df_clust2)):\n",
    "    xz=[]\n",
    "    # the list contains the column header and the preferences of the jth row\n",
    "    xz=list(df_clust2.iloc[j,:].items())\n",
    "    xz1=[]    \n",
    "    # append only the preferences in a new list\n",
    "    for i in range(1,43):\n",
    "        xz1.append(xz[i][1])       \n",
    "    simi=sim(xz1,y)\n",
    "    #store the user similarity in a dictionary\n",
    "    xz_dict[j]=simi"
   ]
  },
  {
   "cell_type": "code",
   "execution_count": 58,
   "metadata": {},
   "outputs": [],
   "source": [
    "# find 5 users who are most similar to the new user\n",
    "top_5=sorted(xz_dict, key=xz_dict.get, reverse=True)[:5]"
   ]
  },
  {
   "cell_type": "code",
   "execution_count": 59,
   "metadata": {},
   "outputs": [
    {
     "name": "stdout",
     "output_type": "stream",
     "text": [
      "Comedy\n",
      "Romantic\n",
      "Sci-fi\n"
     ]
    }
   ],
   "source": [
    "#dictionary used to store the rating for each genre based on user similarities\n",
    "fin_rec={}\n",
    "\n",
    "# for each genre\n",
    "for k in range(1,12):\n",
    "    user_rating=[]\n",
    "    sum_sim=0\n",
    "    rec=0    \n",
    "    # apped the ratings of the similar users into a list for a particular genre\n",
    "    for i in top_5:\n",
    "        user_rating.append(df_clust.iloc[i,k:k+1].item())        \n",
    "    # calculate the rating of the new user based on user-user similarity\n",
    "    for i,j in zip(user_rating,xz_dict):\n",
    "        rec=rec+(i*xz_dict[j])\n",
    "        sum_sim=sum_sim+xz_dict[j]\n",
    "    # store the rating in the dictionary created\n",
    "    fin_rec[k]=rec/sum_sim\n",
    "    \n",
    "#select the top 3 genres based on rating\n",
    "top_3=sorted(fin_rec, key=fin_rec.get, reverse=True)[:3]\n",
    "# Thus recommend the genres to the user.\n",
    "\n",
    "for l in top_3:\n",
    "    print(df_clust.columns[l])"
   ]
  },
  {
   "cell_type": "code",
   "execution_count": 60,
   "metadata": {},
   "outputs": [
    {
     "name": "stdout",
     "output_type": "stream",
     "text": [
      "______________________________________________\n",
      "Fold1\n",
      "Cost of K clusters\n",
      "500 clusters: 6415.0\n",
      "250 clusters: 5086.0\n",
      "125 clusters: 2494.0\n",
      "62 clusters: 1155.0\n",
      "31 clusters: 508.0\n",
      "15 clusters: 250.0\n",
      "10 clusters: 35.0\n",
      "8 clusters: 17.0\n",
      "\n",
      "Accuracy 0.29372937293729373\n",
      "______________________________________________\n",
      "Fold2\n",
      "Cost of K clusters\n",
      "500 clusters: 6389.0\n",
      "250 clusters: 5084.0\n",
      "125 clusters: 2456.0\n",
      "62 clusters: 1164.0\n",
      "31 clusters: 506.0\n",
      "15 clusters: 224.0\n",
      "10 clusters: 46.0\n",
      "8 clusters: 15.0\n",
      "\n",
      "Accuracy 0.3234323432343234\n",
      "______________________________________________\n",
      "Fold3\n",
      "Cost of K clusters\n",
      "500 clusters: 6401.0\n",
      "250 clusters: 5113.0\n",
      "125 clusters: 2436.0\n",
      "62 clusters: 1174.0\n",
      "31 clusters: 498.0\n",
      "15 clusters: 205.0\n",
      "10 clusters: 41.0\n",
      "8 clusters: 12.0\n",
      "\n",
      "Accuracy 0.36303630363036304\n",
      "______________________________________________\n",
      "Fold4\n",
      "Cost of K clusters\n",
      "500 clusters: 6370.0\n",
      "250 clusters: 5122.0\n",
      "125 clusters: 2469.0\n",
      "62 clusters: 1134.0\n",
      "31 clusters: 498.0\n",
      "15 clusters: 213.0\n",
      "10 clusters: 50.0\n",
      "8 clusters: 20.0\n",
      "\n",
      "Accuracy 0.297029702970297\n",
      "______________________________________________\n",
      "Fold5\n",
      "Cost of K clusters\n",
      "500 clusters: 6391.0\n",
      "250 clusters: 5171.0\n",
      "125 clusters: 2480.0\n",
      "62 clusters: 1106.0\n",
      "31 clusters: 501.0\n",
      "15 clusters: 204.0\n",
      "10 clusters: 51.0\n",
      "8 clusters: 12.0\n",
      "\n",
      "Accuracy 0.3184818481848185\n",
      "______________________________________________\n",
      "Accuracy of the model is 31.914191419141915 %\n"
     ]
    }
   ],
   "source": [
    "def trainModelAndValidate(train, test):\n",
    "    count = 0\n",
    "    # select the required columns\n",
    "    per = pd.DataFrame(np.c_[train.iloc[:, 31:73]])\n",
    "    # kmodes clustering with initial cluster as 500\n",
    "    km = KModes(n_clusters=500, max_iter=1000, init='Huang', n_init=2,\n",
    "                n_jobs=-1)\n",
    "    print(\"Cost of K clusters\")\n",
    "    m1 = km.fit(per)\n",
    "    # print the cost of clustering\n",
    "    print(\"500 clusters:\", m1.cost_)\n",
    "\n",
    "    # reduce the clusters gradually till the cost is minimized\n",
    "    mdl1 = m1.cluster_centroids_\n",
    "    km1 = KModes(\n",
    "        n_clusters=250,\n",
    "        max_iter=1000,\n",
    "        init='Huang',\n",
    "        n_init=2,\n",
    "        n_jobs=-1)\n",
    "    m2 = km1.fit(mdl1)\n",
    "    # print(m2.cluster_centroids_)\n",
    "    print(\"250 clusters:\", m2.cost_)\n",
    "\n",
    "    mdl2 = m2.cluster_centroids_\n",
    "    km2 = KModes(\n",
    "        n_clusters=125,\n",
    "        max_iter=1000,\n",
    "        init='Huang',\n",
    "        n_init=2,\n",
    "        n_jobs=-1)\n",
    "    m3 = km2.fit(mdl2)\n",
    "    # print(m3.cluster_centroids_)\n",
    "    print(\"125 clusters:\", m3.cost_)\n",
    "\n",
    "    mdl3 = m3.cluster_centroids_\n",
    "    km3 = KModes(\n",
    "        n_clusters=62,\n",
    "        max_iter=1000,\n",
    "        init='Huang',\n",
    "        n_init=2,\n",
    "        n_jobs=-1)\n",
    "    m4 = km3.fit(mdl3)\n",
    "    # print(m4.cluster_centroids_)\n",
    "    print(\"62 clusters:\", m4.cost_)\n",
    "\n",
    "    mdl4 = m4.cluster_centroids_\n",
    "    km4 = KModes(\n",
    "        n_clusters=31,\n",
    "        max_iter=1000,\n",
    "        init='Huang',\n",
    "        n_init=2,\n",
    "        n_jobs=-1)\n",
    "    m5 = km4.fit(mdl4)\n",
    "    # print(m5.cluster_centroids_)\n",
    "    print(\"31 clusters:\", m5.cost_)\n",
    "\n",
    "    mdl5 = m5.cluster_centroids_\n",
    "    km5 = KModes(\n",
    "        n_clusters=15,\n",
    "        max_iter=1000,\n",
    "        init='Huang',\n",
    "        n_init=2,\n",
    "        n_jobs=-1)\n",
    "    m6 = km5.fit(mdl5)\n",
    "    # print(m6.cluster_centroids_)\n",
    "    print(\"15 clusters:\", m6.cost_)\n",
    "\n",
    "    mdl6 = m6.cluster_centroids_\n",
    "    km6 = KModes(\n",
    "        n_clusters=10,\n",
    "        max_iter=1000,\n",
    "        init='Cao', \n",
    "        n_init=2, \n",
    "        n_jobs=-1)\n",
    "    m7 = km6.fit(mdl6)\n",
    "    # print(m7.cluster_centroids_)\n",
    "    print(\"10 clusters:\", m7.cost_)\n",
    "\n",
    "    mdl7 = m7.cluster_centroids_\n",
    "    km7 = KModes(\n",
    "        n_clusters=8, \n",
    "        max_iter=1000, \n",
    "        init='Cao', \n",
    "        n_init=2, \n",
    "        n_jobs=-1)\n",
    "    m8 = km7.fit(mdl7)\n",
    "    mfin_clust = m8.cluster_centroids_\n",
    "    print(\"8 clusters:\", m8.cost_)\n",
    "    print()\n",
    "\n",
    "    # The min cost is obtained when number of clusters = 8\n",
    "    mfin = km7.fit_predict(per)\n",
    "    fin = pd.DataFrame(mfin)\n",
    "    # print(mfin_clust)\n",
    "\n",
    "    # select the required columns\n",
    "    df1 = train.iloc[:, 20:73]\n",
    "    # add a new column which has the final classification\n",
    "    df1['clusters'] = mfin\n",
    "    # In order to find the similarity between the users, we group the users\n",
    "    # who belong to the same cluster\n",
    "    df_fin = df1.groupby(['clusters'])\n",
    "\n",
    "    fin_0 = df_fin.get_group(0)\n",
    "    # print(np.std(fin_0['Horror']))\n",
    "\n",
    "    fin_1 = df_fin.get_group(1)\n",
    "    # print(np.std(fin_1['Horror']))\n",
    "\n",
    "    fin_2 = df_fin.get_group(2)\n",
    "\n",
    "    fin_3 = df_fin.get_group(3)\n",
    "\n",
    "    fin_4 = df_fin.get_group(4)\n",
    "\n",
    "    fin_5 = df_fin.get_group(5)\n",
    "\n",
    "    fin_6 = df_fin.get_group(6)\n",
    "\n",
    "    fin_7 = df_fin.get_group(7)\n",
    "\n",
    "    # convert the centroids of a cluster into a list\n",
    "    mfin_clust = list(mfin_clust)\n",
    "\n",
    "    for i in range((test.shape[0])):\n",
    "        row_hobby = list(df.iloc[i, 31:73])\n",
    "        row_genre = list(df.iloc[i, 20:31])\n",
    "\n",
    "        # Euclidian distance between y and the centroid of each cluster\n",
    "        # The calculated distances are stored in a dictionary with the key =\n",
    "        # cluster numbers\n",
    "        distance = {}\n",
    "\n",
    "        for i in range(0, 8):\n",
    "            distance[i] = (math.sqrt(\n",
    "                sum([(a - b) ** 2 for a, b in zip(mfin_clust[i], row_hobby)])))\n",
    "        # minimum distance is calculated using the values of the dictionary\n",
    "        min_clust = min(distance, key=distance.get)\n",
    "        # the user is classified into the cluster\n",
    "        df_clust = df_fin.get_group(min_clust)\n",
    "        # similarity for y and df_clust\n",
    "        # drop the columns containing movie genre as the similarity between the\n",
    "        # users is calculated using the hobbies preferences\n",
    "        df_clust2 = df_clust.drop(['Horror',\n",
    "                                   'Romantic',\n",
    "                                   'Comedy',\n",
    "                                   'Thriller',\n",
    "                                   'Sci-fi',\n",
    "                                   'War',\n",
    "                                   'Fantasy/Fairy tales',\n",
    "                                   'Western',\n",
    "                                   'Animated',\n",
    "                                   'Documentary',\n",
    "                                   'Action'],\n",
    "                                  axis=1)\n",
    "        # insert a new column called index as each user needs to have one\n",
    "        # unique identity\n",
    "        ind = list(range(0, len(df_clust2)))\n",
    "        df_clust2.insert(0, 'Index', ind)\n",
    "\n",
    "        # add the index column to the dataframe\n",
    "        df_clust2['Index']\n",
    "        # dictinary to store the user-user similarity\n",
    "        xz_dict = {}\n",
    "        for j in range(0, len(df_clust2)):\n",
    "            xz = []\n",
    "            # the list contains the column header and the preferences of the\n",
    "            # jth row\n",
    "            xz = list(df_clust2.iloc[j, :].items())\n",
    "            # print(xz)\n",
    "            xz1 = []\n",
    "            # append only the preferences in a new list\n",
    "            for i in range(1, 43):\n",
    "                xz1.append(xz[i][1])\n",
    "            # print(xz1)\n",
    "            simi = sim(xz1, row_hobby)\n",
    "            # store the user similarity in a dictionary\n",
    "            xz_dict[j] = simi\n",
    "        # find 5 users who are most similar to the new user\n",
    "        top_5 = sorted(xz_dict, key=xz_dict.get, reverse=True)[:5]\n",
    "\n",
    "        # dictionary used to store the rating for each genre based on user\n",
    "        # similarities\n",
    "        fin_rec = {}\n",
    "        actual = {}\n",
    "        # for each genre\n",
    "        for k in range(1, 12):\n",
    "            actual[k] = row_genre[k - 1]\n",
    "            user_rating = []\n",
    "            sum_sim = 0\n",
    "            rec = 0\n",
    "            # apped the ratings of the similar users into a list for a\n",
    "            # particular genre\n",
    "            for i in top_5:\n",
    "                user_rating.append(df_clust.iloc[i, k:k + 1].item())\n",
    "            # calculate the rating of the new user based on user-user\n",
    "            # similarity\n",
    "            for i, j in zip(user_rating, xz_dict):\n",
    "                rec = rec + (i * xz_dict[j])\n",
    "                sum_sim = sum_sim + xz_dict[j]\n",
    "            # store the rating in the dictionary created\n",
    "            fin_rec[k] = rec / sum_sim\n",
    "        # select the top 3 genres based on rating\n",
    "        top_3 = sorted(fin_rec, key=fin_rec.get, reverse=True)[:3]\n",
    "        top_3_actual = sorted(actual, key=actual.get, reverse=True)[:3]\n",
    "        # Thus recommend the genres to the user.\n",
    "        for l in top_3:\n",
    "            if l in top_3_actual:\n",
    "                count += 1\n",
    "    print(\"Accuracy\", count / (3 * test.shape[0]))\n",
    "    return count / (3 * test.shape[0])\n",
    "kf = KFold(5, True, 1)\n",
    "i=1\n",
    "list_accuracy=[]\n",
    "for train, test in kf.split(df):\n",
    "    print(\"______________________________________________\")\n",
    "    print(\"Fold\"+str(i))\n",
    "    i+=1\n",
    "    list_accuracy.append(trainModelAndValidate(df.iloc[train],df.iloc[test]))\n",
    "print(\"______________________________________________\")\n",
    "print(\"Accuracy of the model is\",(sum(list_accuracy)/len(list_accuracy))*100,\"%\")\n"
   ]
  },
  {
   "cell_type": "code",
   "execution_count": null,
   "metadata": {},
   "outputs": [],
   "source": []
  },
  {
   "cell_type": "code",
   "execution_count": null,
   "metadata": {},
   "outputs": [],
   "source": []
  },
  {
   "cell_type": "code",
   "execution_count": null,
   "metadata": {},
   "outputs": [],
   "source": []
  }
 ],
 "metadata": {
  "kernelspec": {
   "display_name": "Python 3",
   "language": "python",
   "name": "python3"
  },
  "language_info": {
   "codemirror_mode": {
    "name": "ipython",
    "version": 3
   },
   "file_extension": ".py",
   "mimetype": "text/x-python",
   "name": "python",
   "nbconvert_exporter": "python",
   "pygments_lexer": "ipython3",
   "version": "3.6.5"
  }
 },
 "nbformat": 4,
 "nbformat_minor": 2
}
