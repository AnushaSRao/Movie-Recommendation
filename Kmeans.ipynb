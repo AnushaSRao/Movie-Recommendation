{
 "cells": [
  {
   "cell_type": "code",
   "execution_count": null,
   "metadata": {},
   "outputs": [],
   "source": [
    "#Kmeans clustering\n",
    "from sklearn.cluster import KMeans\n",
    "\n",
    "df_test=pd.DataFrame(columns=['Age','Movies'])\n",
    "df_test['Age']=df.Age\n",
    "df_test['Movies']=df.Movies\n",
    "#df_test['Gender']=df.Gender\n",
    "mat=df_test.values\n",
    "kmeans=KMeans(n_clusters=2,random_state=10)\n",
    "kmeans.fit(mat)\n",
    "labels=kmeans.labels_\n",
    "results=pd.DataFrame([df_test.index,labels]).T\n",
    "print(results)\n",
    "fig=plt.figure()\n",
    "ax=fig.add_subplot(111)\n",
    "scatter=ax.scatter(df_test['Age'],df_test['Movies'],c=results[1],s=50)\n",
    "plt.colorbar(scatter)"
   ]
  }
 ],
 "metadata": {
  "kernelspec": {
   "display_name": "Python 3",
   "language": "python",
   "name": "python3"
  },
  "language_info": {
   "codemirror_mode": {
    "name": "ipython",
    "version": 3
   },
   "file_extension": ".py",
   "mimetype": "text/x-python",
   "name": "python",
   "nbconvert_exporter": "python",
   "pygments_lexer": "ipython3",
   "version": "3.6.5"
  }
 },
 "nbformat": 4,
 "nbformat_minor": 2
}
